{
 "cells": [
  {
   "cell_type": "code",
   "execution_count": 2,
   "id": "e932db03",
   "metadata": {},
   "outputs": [],
   "source": [
    "import numpy as np\n",
    "from scipy import signal\n",
    "import matplotlib.pyplot as plt"
   ]
  },
  {
   "cell_type": "code",
   "execution_count": 10,
   "id": "9e700bcc",
   "metadata": {},
   "outputs": [],
   "source": [
    "def generate_and_save_all_pass_filter(a):\n",
    "    p=a\n",
    "    z =[1/np.conj(x) for x in a]\n",
    "    w, h = signal.freqz_zpk(z, p, 1 )\n",
    "    angles = np.unwrap(np.angle(h))\n",
    "    \n",
    "    # all pass phase response plot\n",
    "    my_dpi=100\n",
    "    plt.figure(figsize=(1366/my_dpi, 900/my_dpi), dpi=my_dpi)\n",
    "    # 1366 x 900 \n",
    "    plt.plot(w, angles, 'b')\n",
    "    plt.ylabel('Angle [radians]', color='b')\n",
    "    plt.xlabel('Frequency [radians]')\n",
    "    plt.grid(True)\n",
    "    path = r\"I:\\SBME_5th_Term\\DSP\\DSP Tasks\\Task 5\\DSP-Task-5-Filters\\assets\\all_pass_filters\"\n",
    "    plt.savefig(f\"{path}\\\\{a[0]}.png\", dpi=100)\n",
    "    plt.close()"
   ]
  },
  {
   "cell_type": "code",
   "execution_count": 11,
   "id": "116334d4",
   "metadata": {},
   "outputs": [],
   "source": [
    "a_s = [ [0.3] , [0.5] , [0.7] , [0.9] , [1.1] , [1.5] ,[2] ,[-0.3] , [-0.5] , [-0.7] , [-0.9] , [-1.1] , [-1.5] ,[-2], [0.3j] , [0.5j] , [0.7j] , [0.9j] , [1.1j] , [1.5j] ,[2j],[-0.3j] , [-0.5j] , [-0.7j] , [-0.9j] , [-1.1j] , [-1.5j] , [-2j] ]\n",
    "for a in a_s:\n",
    "    generate_and_save_all_pass_filter(a)"
   ]
  },
  {
   "cell_type": "code",
   "execution_count": null,
   "id": "2d8de653",
   "metadata": {},
   "outputs": [],
   "source": [
    "a_s = [ [ 1+2j] , [0.5 + 0.3j]]\n",
    "for a in a_s:\n",
    "    generate_and_save_all_pass_filter(a)"
   ]
  },
  {
   "cell_type": "code",
   "execution_count": null,
   "id": "1f1cab50",
   "metadata": {},
   "outputs": [],
   "source": []
  }
 ],
 "metadata": {
  "kernelspec": {
   "display_name": "Python 3",
   "language": "python",
   "name": "python3"
  },
  "language_info": {
   "codemirror_mode": {
    "name": "ipython",
    "version": 3
   },
   "file_extension": ".py",
   "mimetype": "text/x-python",
   "name": "python",
   "nbconvert_exporter": "python",
   "pygments_lexer": "ipython3",
   "version": "3.10.4"
  },
  "vscode": {
   "interpreter": {
    "hash": "8c3d4d9970fc5c09c50d9318a9c7fbf4d0159e4b28833276f5678ee22bded273"
   }
  }
 },
 "nbformat": 4,
 "nbformat_minor": 5
}
